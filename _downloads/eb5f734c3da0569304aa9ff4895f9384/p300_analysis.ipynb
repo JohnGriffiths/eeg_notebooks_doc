{
  "cells": [
    {
      "cell_type": "code",
      "execution_count": null,
      "metadata": {
        "collapsed": false
      },
      "outputs": [],
      "source": [
        "%matplotlib inline"
      ]
    },
    {
      "cell_type": "markdown",
      "metadata": {},
      "source": [
        "\nSyntaxError\n===========\n\nExample script with invalid Python syntax\n\n"
      ]
    },
    {
      "cell_type": "code",
      "execution_count": null,
      "metadata": {
        "collapsed": false
      },
      "outputs": [],
      "source": [
        "\"\"\"\nP300 Analysis Only\n===============================\n\nThis notebook runs only the data analysis part of N170 notebook.\n\nLook at the notes to see how this can be run on the web with binder or google collab.\n\nAll of the additional notes are removed; only the code cells are kept.\n\n\"\"\""
      ]
    },
    {
      "cell_type": "code",
      "execution_count": null,
      "metadata": {
        "collapsed": false
      },
      "outputs": [],
      "source": [
        "# Imports\nfrom muselsl import stream, list_muses, view, record\nfrom multiprocessing import Process\nfrom mne import Epochs, find_events\nfrom time import time, strftime, gmtime\nimport os\n#from stimulus_presentation import n170\n#os.chdir('../')\nfrom eegnb.analysis import utils\n#;from utils import utils\nfrom collections import OrderedDict\nimport warnings\nwarnings.filterwarnings('ignore')"
      ]
    },
    {
      "cell_type": "markdown",
      "metadata": {},
      "source": [
        "Next header\n---------------------------------\n\n\nStep 1: Connect to an EEG Device \n\n"
      ]
    },
    {
      "cell_type": "code",
      "execution_count": null,
      "metadata": {
        "collapsed": false
      },
      "outputs": [],
      "source": [
        "# Step 2: Apply the EEG Device and Wait for Signal Quality to Stabilize  \n\n# Step 3: Run the Experiment  \n\nblah blah\n\nblah \n\nblah"
      ]
    },
    {
      "cell_type": "markdown",
      "metadata": {},
      "source": [
        "Next header\n---------------------------------\n\n\nStep 1: Connect to an EEG Device\n\n"
      ]
    },
    {
      "cell_type": "code",
      "execution_count": null,
      "metadata": {
        "collapsed": false
      },
      "outputs": [],
      "source": [
        "blah blah\n\nblah\n\nblah"
      ]
    },
    {
      "cell_type": "markdown",
      "metadata": {},
      "source": [
        "Next header\n---------------------------------\n\n\nStep 1: Connect to an EEG Device\n\n"
      ]
    },
    {
      "cell_type": "code",
      "execution_count": null,
      "metadata": {
        "collapsed": false
      },
      "outputs": [],
      "source": [
        "blah blah\n\nblah \n\nblah"
      ]
    }
  ],
  "metadata": {
    "kernelspec": {
      "display_name": "Python 3",
      "language": "python",
      "name": "python3"
    },
    "language_info": {
      "codemirror_mode": {
        "name": "ipython",
        "version": 3
      },
      "file_extension": ".py",
      "mimetype": "text/x-python",
      "name": "python",
      "nbconvert_exporter": "python",
      "pygments_lexer": "ipython3",
      "version": "3.7.6"
    }
  },
  "nbformat": 4,
  "nbformat_minor": 0
}