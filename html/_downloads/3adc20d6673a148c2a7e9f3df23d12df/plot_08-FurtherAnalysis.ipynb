{
  "cells": [
    {
      "cell_type": "code",
      "execution_count": null,
      "metadata": {
        "collapsed": false
      },
      "outputs": [],
      "source": [
        "%matplotlib inline"
      ]
    },
    {
      "cell_type": "markdown",
      "metadata": {},
      "source": [
        "\n08: Further Analysis\n====================\n\nAnalyze results from fitting power spectrum models.\n"
      ]
    },
    {
      "cell_type": "markdown",
      "metadata": {},
      "source": [
        "Exploring Power Spectrum Model Results\n--------------------------------------\n\nSo far we have explored how to parameterize neural power spectra as a method to extract\nparameters of interest from data - in particular measuring aperiodic and periodic activity.\n\nThese measured parameters can then be examined within or between groups of interest,\nand/or fed into further analysis to examine if, for example, these parameters\npredict other behavioural or physiological features of interest.\nLargely, it is up to you what to do after fitting power spectrum models, as it depends\non your questions of interest.\n\nHere, we briefly introduce some analysis utilities that are included in the module,\nand explore some simple analyses that can be done with model parameters.\n\nTo start, we will load and fit some example data, as well as simulate a group of\npower spectra to fit with power spectrum models.\n\n\n"
      ]
    },
    {
      "cell_type": "code",
      "execution_count": null,
      "metadata": {
        "collapsed": false
      },
      "outputs": [],
      "source": [
        "# General imports\nimport numpy as np\n\n# Import the FOOOF and FOOOFGroup objects\nfrom fooof import FOOOF, FOOOFGroup\n\n# Import the Bands object, which is used to define frequency bands\nfrom fooof.bands import Bands\n\n# Import simulation code and utilities\nfrom fooof.sim.params import param_sampler\nfrom fooof.sim.gen import gen_group_power_spectra\nfrom fooof.sim.utils import set_random_seed\n\n# Import some analysis functions\nfrom fooof.analysis import get_band_peak_fm, get_band_peak_fg\n\n# Import utility to download and load example data\nfrom fooof.utils.download import load_fooof_data"
      ]
    },
    {
      "cell_type": "markdown",
      "metadata": {},
      "source": [
        "Load and Fit Example Data\n~~~~~~~~~~~~~~~~~~~~~~~~~\n\n\n"
      ]
    },
    {
      "cell_type": "code",
      "execution_count": null,
      "metadata": {
        "collapsed": false
      },
      "outputs": [],
      "source": [
        "# Load examples data files needed for this example\nfreqs = load_fooof_data('freqs.npy', folder='data')\nspectrum = load_fooof_data('spectrum.npy', folder='data')"
      ]
    },
    {
      "cell_type": "code",
      "execution_count": null,
      "metadata": {
        "collapsed": false
      },
      "outputs": [],
      "source": [
        "# Fit a power spectrum model\nfm = FOOOF(peak_width_limits=[2, 8])\nfm.fit(freqs, spectrum, [3, 30])"
      ]
    },
    {
      "cell_type": "markdown",
      "metadata": {},
      "source": [
        "Simulate and Fit Group Data\n~~~~~~~~~~~~~~~~~~~~~~~~~~~\n\n\n"
      ]
    },
    {
      "cell_type": "code",
      "execution_count": null,
      "metadata": {
        "collapsed": false
      },
      "outputs": [],
      "source": [
        "# Set random seed, for consistency generating simulated data\nset_random_seed(21)\n\n# Generate some simulated power spectra\nfreqs, spectra = gen_group_power_spectra(n_spectra=10,\n                                         freq_range=[3, 40],\n                                         aperiodic_params=param_sampler([[20, 2], [35, 1.5]]),\n                                         periodic_params=param_sampler([[], [10, 0.5, 2]]))"
      ]
    },
    {
      "cell_type": "code",
      "execution_count": null,
      "metadata": {
        "collapsed": false
      },
      "outputs": [],
      "source": [
        "# Initialize a FOOOFGroup object with desired settings\nfg = FOOOFGroup(peak_width_limits=[1, 8], min_peak_height=0.05,\n                max_n_peaks=6, verbose=False)\n\n# Fit power spectrum models across the group of simulated power spectra\nfg.fit(freqs, spectra)"
      ]
    },
    {
      "cell_type": "markdown",
      "metadata": {},
      "source": [
        "Analysis Utilities\n------------------\n\nThe FOOOF module includes some analysis functions. Note that these utilities are\ngenerally relatively simple utilities that assist in accessing and investigating\nthe model parameters.\n\nIn depth analysis of power spectrum model results is typically idiosyncratic to the goals of\nthe project, and so we consider that this will typically require custom code, and seek\nhere to offer the most general utilities, and not support all possible applications.\nHere we demonstrate some of these utility functions covering very general use cases.\n\n\n"
      ]
    },
    {
      "cell_type": "markdown",
      "metadata": {},
      "source": [
        "Analyzing Periodic Components\n-----------------------------\n\nWe will start by analyzing the periodic components.\nIn particular, these utilities mostly serve to help organize and extract periodic\ncomponents, for example extracting peaks that fall within defined frequency bands.\n\nThis also includes using the :class:`~.Bands` object, that is provided\nto store band definitions.\n\n\n"
      ]
    },
    {
      "cell_type": "code",
      "execution_count": null,
      "metadata": {
        "collapsed": false
      },
      "outputs": [],
      "source": [
        "# Define frequency bands of interest\nbands = Bands({'theta' : [4, 8],\n               'alpha' : [8, 12],\n               'beta' : [15, 30]})"
      ]
    },
    {
      "cell_type": "markdown",
      "metadata": {},
      "source": [
        "Extracting peaks from FOOOF Objects\n~~~~~~~~~~~~~~~~~~~~~~~~~~~~~~~~~~~\n\nThe :func:`~.get_band_peak_fm` function takes in a\n:class:`~.FOOOF` object and extracts peak(s) from a requested frequency range.\n\nYou can optionally specify:\n\n- whether to return one peak from the specified band, in which case the highest peak is\n  returned, or whether to return all peaks from within the band\n- whether to apply a minimum threshold to extract peaks, for example, to extract\n  peaks only above some minimum power threshold\n\n\n"
      ]
    },
    {
      "cell_type": "code",
      "execution_count": null,
      "metadata": {
        "collapsed": false
      },
      "outputs": [],
      "source": [
        "# Extract any alpha band peaks from the power spectrum model\nalpha = get_band_peak_fm(fm, bands.alpha)\nprint(alpha)"
      ]
    },
    {
      "cell_type": "markdown",
      "metadata": {},
      "source": [
        "Extracting peaks from FOOOFGroup Objects\n~~~~~~~~~~~~~~~~~~~~~~~~~~~~~~~~~~~~~~~~\n\nSimilarly, the :func:`~.get_band_peak_fg` function can be used\nto select peaks within specific frequency ranges, from :class:`~fooof.FOOOFGroup` objects.\n\nNote that you can also apply a threshold to extract group peaks but, as discussed below,\nthis approach will only extract one peak per individual model in the FOOOFGroup object.\n\n\n"
      ]
    },
    {
      "cell_type": "code",
      "execution_count": null,
      "metadata": {
        "collapsed": false
      },
      "outputs": [],
      "source": [
        "# Get all alpha peaks from a group of power spectrum models\nalphas = get_band_peak_fg(fg, bands.alpha)\n\n# Check out some of the alpha data\nprint(alphas[0:5, :])"
      ]
    },
    {
      "cell_type": "markdown",
      "metadata": {},
      "source": [
        "When selecting peaks from a group of model fits, we want to retain information about\nwhich model each peak comes from.\n\nTo do so, the output of :func:`~.get_band_peak_fg` is organized\nsuch that each row corresponds to a specific model fit. This means that returned array\nhas the shape [n_models, 3], and so the index of each row corresponds to the index of the\nmodel from the FOOOFGroup object.\n\nFor this to work, at most 1 peak is extracted for each model fit within the specified band.\nIf more than 1 peak are found within the band, the peak with the highest power is extracted.\nIf no peaks are found, that row is filled with 'nan'.\n\n\n"
      ]
    },
    {
      "cell_type": "code",
      "execution_count": null,
      "metadata": {
        "collapsed": false
      },
      "outputs": [],
      "source": [
        "# Check descriptive statistics of extracted peak data\nprint('Alpha CF : {:1.2f}'.format(np.nanmean(alphas[:, 0])))\nprint('Alpha PW : {:1.2f}'.format(np.nanmean(alphas[:, 1])))\nprint('Alpha BW : {:1.2f}'.format(np.nanmean(alphas[:, 2])))"
      ]
    },
    {
      "cell_type": "markdown",
      "metadata": {},
      "source": [
        "Customizing Peak Extraction\n~~~~~~~~~~~~~~~~~~~~~~~~~~~\n\nIf you want to do more customized extraction of peaks, for example, extracting all peaks\nin a frequency band from each model in a FOOOFGroup object, you may need to use the\nunderlying functions that operate on arrays of peak parameters. To explore these functions,\ncheck the listing in the API page.\n\n\n"
      ]
    },
    {
      "cell_type": "markdown",
      "metadata": {},
      "source": [
        "A Note on Frequency Ranges\n--------------------------\n\nA benefit of fitting power spectrum models is that you do not have to define\na priori frequency ranges from which to extract peaks.\n\nNevertheless, it may still be useful to group extracted peaks into 'bands' of interest,\nwhich is why the aforementioned functions are offered.\n\nSince this frequency-range selection can be done after model fitting, we do recommend\nchecking the model results, for example by checking a histogram of the center frequencies\nextracted across a group, in order to ensure the frequency ranges you choose reflect\nthe characteristics of the data under study.\n\n\n"
      ]
    },
    {
      "cell_type": "markdown",
      "metadata": {},
      "source": [
        "Analyzing the Aperiodic Component\n---------------------------------\n\nTypically, for analyzing the aperiodic component of the data, aperiodic parameters\njust need to be extracted from FOOOF objects and fit into analyses of interest.\n\n\n"
      ]
    },
    {
      "cell_type": "code",
      "execution_count": null,
      "metadata": {
        "collapsed": false
      },
      "outputs": [],
      "source": [
        "# Plot from the FOOOFGroup, to visualize the parameters\nfg.plot()"
      ]
    },
    {
      "cell_type": "code",
      "execution_count": null,
      "metadata": {
        "collapsed": false
      },
      "outputs": [],
      "source": [
        "# Extract aperiodic exponent data from group results\nexps = fg.get_params('aperiodic_params', 'exponent')\n\n# Check out the aperiodic exponent results\nprint(exps)"
      ]
    },
    {
      "cell_type": "markdown",
      "metadata": {},
      "source": [
        "Example Analyses\n----------------\n\nOnce you have extracted the parameters you can analyze them by, for example:\n\n- Characterizing periodic & aperiodic properties,\n  and analyzing spatial topographies, across demographics, modalities, and tasks\n- Comparing peaks within and between subjects across different tasks of interest\n- Predicting disease state based on power spectrum model parameters\n- Fitting power spectrum models in a trial-by-trial approach to try and decode task\n  properties, and behavioral states\n\nSo far we have only introduced the basic utilities to help with selecting and\nexamining power spectrum model parameters.\n\nTo further explore some of these specific analyses, and explore other\nutilities that may be useful, check out the\n`examples <https://fooof-tools.github.io/fooof/auto_examples/index.html>`_\npage.\n\n\n"
      ]
    },
    {
      "cell_type": "markdown",
      "metadata": {},
      "source": [
        "Conclusion\n----------\n\nThis is the end of the main tutorial materials!\n\nIf you are having any troubles, please submit an issue on Github\n`here <https://github.com/fooof-tools/fooof>`_,\nand/or get in contact with us at voytekresearch@gmail.com.\n\n\n"
      ]
    }
  ],
  "metadata": {
    "kernelspec": {
      "display_name": "Python 3",
      "language": "python",
      "name": "python3"
    },
    "language_info": {
      "codemirror_mode": {
        "name": "ipython",
        "version": 3
      },
      "file_extension": ".py",
      "mimetype": "text/x-python",
      "name": "python",
      "nbconvert_exporter": "python",
      "pygments_lexer": "ipython3",
      "version": "3.7.6"
    }
  },
  "nbformat": 4,
  "nbformat_minor": 0
}